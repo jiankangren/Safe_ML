{
 "cells": [
  {
   "cell_type": "code",
   "execution_count": 1,
   "metadata": {
    "collapsed": true
   },
   "outputs": [],
   "source": [
    "import pandas as pd\n",
    "from matplotlib import cm\n",
    "import numpy as np\n",
    "from math import floor, ceil\n",
    "import matplotlib.pyplot as plt\n",
    "from matplotlib.colors import ListedColormap\n",
    "from Preprocess import *"
   ]
  },
  {
   "cell_type": "code",
   "execution_count": 2,
   "metadata": {
    "collapsed": true
   },
   "outputs": [],
   "source": [
    "from plot import *\n",
    "markers=['.','+','x','_',',','|','1','2','3','4','8','>','<']\n",
    "cmap1 = plt.cm.RdBu\n",
    "cmap2 = plt.cm.Set2\n",
    "cmap3 = plt.cm.tab20c\n",
    "# cmap3 = plt.cm.hot\n",
    "C =ListedColormap (np.random.rand (20,3)).colors"
   ]
  },
  {
   "cell_type": "code",
   "execution_count": 21,
   "metadata": {},
   "outputs": [],
   "source": [
    "file2=['./data/SARCOS/','train.mat']\n",
    "X_train, X_test, y_train, y_test = read_data(file2[0])"
   ]
  },
  {
   "cell_type": "markdown",
   "metadata": {},
   "source": [
    "## MLPRegressor"
   ]
  },
  {
   "cell_type": "code",
   "execution_count": 22,
   "metadata": {},
   "outputs": [],
   "source": [
    "from sklearn.neural_network  import MLPRegressor"
   ]
  },
  {
   "cell_type": "code",
   "execution_count": 23,
   "metadata": {},
   "outputs": [
    {
     "name": "stdout",
     "output_type": "stream",
     "text": [
      "Iteration 1, loss = 751939.14320092\n",
      "Iteration 2, loss = 2.09001312\n",
      "Iteration 3, loss = 1.55016381\n",
      "Iteration 4, loss = 1.27494623\n",
      "Iteration 5, loss = 0.97174428\n",
      "Iteration 6, loss = 0.73247842\n",
      "Iteration 7, loss = 0.64055886\n",
      "Iteration 8, loss = 0.56617522\n",
      "Iteration 9, loss = 0.50878373\n",
      "Iteration 10, loss = 0.46692574\n",
      "Iteration 11, loss = 0.51151731\n",
      "Iteration 12, loss = 0.43476840\n",
      "Iteration 13, loss = 0.41439962\n",
      "Iteration 14, loss = 0.42189245\n",
      "Iteration 15, loss = 0.38579544\n",
      "Iteration 16, loss = 0.37740243\n",
      "Iteration 17, loss = 0.35278010\n",
      "Iteration 18, loss = 0.34857132\n",
      "Iteration 19, loss = 0.37771466\n",
      "Iteration 20, loss = 8.08401526\n",
      "Iteration 21, loss = 1.02820497\n",
      "Training loss did not improve more than tol=0.000010 for two consecutive epochs. Stopping.\n"
     ]
    },
    {
     "data": {
      "text/plain": [
       "MLPRegressor(activation='relu', alpha=0.0001, batch_size='auto', beta_1=0.9,\n",
       "       beta_2=0.999, early_stopping=False, epsilon=1e-08,\n",
       "       hidden_layer_sizes=(200, 200, 200), learning_rate='constant',\n",
       "       learning_rate_init=0.1, max_iter=200, momentum=0.9,\n",
       "       nesterovs_momentum=True, power_t=0.5, random_state=1, shuffle=True,\n",
       "       solver='adam', tol=1e-05, validation_fraction=0.1, verbose=10,\n",
       "       warm_start=False)"
      ]
     },
     "execution_count": 23,
     "metadata": {},
     "output_type": "execute_result"
    }
   ],
   "source": [
    "mlp = MLPRegressor(hidden_layer_sizes=(200,200,200,), max_iter=200, alpha=1e-4,\n",
    "                    solver='adam', verbose=10, tol=1e-5, random_state=1, batch_size='auto',\n",
    "                    learning_rate_init=.1)\n",
    "mlp.fit(X_train, y_train)"
   ]
  },
  {
   "cell_type": "code",
   "execution_count": 24,
   "metadata": {},
   "outputs": [
    {
     "name": "stdout",
     "output_type": "stream",
     "text": [
      "1.51216639944\n",
      "1.87546800883\n"
     ]
    }
   ],
   "source": [
    "from sklearn.metrics import mean_squared_error\n",
    "y_predict_test=mlp.predict(X_test)\n",
    "print mean_squared_error(y_test, y_predict_test)  \n",
    "y_predict_train=mlp.predict(X_train)\n",
    "print mean_squared_error(y_train, y_predict_train)  "
   ]
  },
  {
   "cell_type": "code",
   "execution_count": null,
   "metadata": {
    "collapsed": true
   },
   "outputs": [],
   "source": [
    "tree=CLTree(criterion='gini',min_samples_leaf=5, max_depth=50,gain_ratio_threshold=0.00001)\n",
    "tree.fit(X_train,1,0.4)\n",
    "save_model(tree,file[0]+'tree.pkl')"
   ]
  },
  {
   "cell_type": "code",
   "execution_count": null,
   "metadata": {
    "collapsed": true
   },
   "outputs": [],
   "source": [
    "tree=load_model(file[0]+'tree.pkl')\n",
    "yt=tree.predict(X_train)\n",
    "yp=tree.predict(X_test)\n",
    "\n",
    "yt.sort()\n",
    "k=int(floor(len(yt)*0.001))\n",
    "threshold=yt[k]\n",
    "print 'Threshold:', threshold\n",
    "ax = plt.subplot(2, 2, 1)\n",
    "plt.hist(tree.density,bins=25,density=True, histtype='step',cumulative=True)\n",
    "ax = plt.subplot(2, 2, 2)\n",
    "plt.hist(tree.density_X,bins=25,density=True, histtype='step',cumulative=True)\n",
    "\n",
    "\n",
    "\n",
    "\n",
    "ax = plt.subplot(2, 2, 3)\n",
    "plt.hist(yt[yt>0],bins=25,density=True, histtype='step',cumulative=True)\n",
    "ax = plt.subplot(2, 2, 4)\n",
    "plt.hist(yp[yp>0],bins=25,density=True, histtype='step',cumulative=True)\n",
    "plt.tight_layout()\n",
    "plt.show()\n",
    "\n"
   ]
  }
 ],
 "metadata": {
  "kernelspec": {
   "display_name": "Python 2",
   "language": "python",
   "name": "python2"
  },
  "language_info": {
   "codemirror_mode": {
    "name": "ipython",
    "version": 2
   },
   "file_extension": ".py",
   "mimetype": "text/x-python",
   "name": "python",
   "nbconvert_exporter": "python",
   "pygments_lexer": "ipython2",
   "version": "2.7.14"
  }
 },
 "nbformat": 4,
 "nbformat_minor": 2
}
