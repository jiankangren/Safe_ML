{
 "cells": [
  {
   "cell_type": "code",
   "execution_count": 1,
   "metadata": {},
   "outputs": [],
   "source": [
    "import pandas as pd\n",
    "from matplotlib import cm\n",
    "import numpy as np\n",
    "from math import floor, ceil\n",
    "import matplotlib.pyplot as plt\n",
    "from matplotlib.colors import ListedColormap\n",
    "from Preprocess import *"
   ]
  },
  {
   "cell_type": "markdown",
   "metadata": {},
   "source": [
    "## MLP"
   ]
  },
  {
   "cell_type": "code",
   "execution_count": 2,
   "metadata": {},
   "outputs": [
    {
     "name": "stdout",
     "output_type": "stream",
     "text": [
      "['Slight-Right-Turn' 'Slight-Right-Turn' 'Slight-Right-Turn' ...,\n",
      " 'Slight-Right-Turn' 'Move-Forward' 'Move-Forward']\n"
     ]
    }
   ],
   "source": [
    "from sklearn.model_selection import train_test_split\n",
    "from sklearn.neural_network import MLPClassifier\n",
    "\n",
    "file1=['./data/robot/','2.csv']\n",
    "X_train, X_test, y_train, y_test = read_data(file1[0])\n",
    "print y_train\n",
    "\n",
    "\n",
    "mlp = MLPClassifier(hidden_layer_sizes=(100,100,), max_iter=100, alpha=1e-4,\n",
    "                    solver='adam', verbose=10, tol=1e-5, random_state=1,\n",
    "                    learning_rate_init=.1)\n",
    "mlp.fit(X_train, y_train)\n",
    "\n",
    "label=mlp.classes_\n",
    "\n",
    "\n",
    "figure = plt.figure(figsize=(25, 15))\n",
    "h=0.05\n",
    "x1_min, x1_max = X.T[0].min() - .1, X.T[0].max() +.1\n",
    "x2_min, x2_max =X.T[1].min() - .1, X.T[1].max() + .1\n",
    "xx, yy = np.meshgrid(np.arange(x1_min-1, x1_max+1, h),np.arange(x2_min-1, x2_max+1, h))\n",
    "cmap1 = plt.cm.RdBu\n",
    "cmap2 = plt.cm.Set2\n",
    "cmap3 = plt.cm.tab20c\n",
    "\n",
    "for i in xrange(0,4):\n",
    "    ax = plt.subplot(2, 2, i+1)\n",
    "    # ax.set_title(\"Input data\")\n",
    "    ax.set_ylim(x2_min, x2_max)\n",
    "    ax.set_xticks(range(int(floor(x1_min)),int(ceil(x1_max))))\n",
    "    ax.set_yticks(range(int(floor(x2_min)),int(ceil(x2_max))))\n",
    "    ax.set_xlabel('Sensor Reading From Front Sensor',size=20)\n",
    "    ax.set_ylabel('Sensor Reading From Left Sensor',size=20)\n",
    "    markers=['.','+','o',',']\n",
    "    for j in range(0,len(label)):\n",
    "        index=(y==label[j])\n",
    "        ax.scatter(X[index].T[0], X[index].T[1] ,cmap=cmap1,marker=markers[j],label=label[j])\n",
    "        ax.set_xlim(x1_min, x1_max)\n",
    "    Z = mlp.predict_proba(np.c_[xx.ravel(), yy.ravel()])[:, i]\n",
    "    Z = Z.reshape(xx.shape)\n",
    "#     Zs=read_output('rf_robot2_1_Z')\n",
    "#     Z=np.minimum(Z, Zs)\n",
    "    cntr1 = ax.contourf(xx, yy, Z, cmap=cmap3, alpha=.8)\n",
    "    cbar0 = plt.colorbar( cntr1,)\n",
    "plt.legend()\n",
    "plt.tight_layout()\n",
    "plt.show()\n",
    "\n",
    "\n",
    "print(\"Training set score: %f\" % mlp.score(X_train, y_train))\n",
    "\n",
    "print(\"Test set score: %f\" % mlp.score(X_test, y_test))"
   ]
  },
  {
   "cell_type": "code",
   "execution_count": 3,
   "metadata": {},
   "outputs": [
    {
     "ename": "NameError",
     "evalue": "name 'read_output' is not defined",
     "output_type": "error",
     "traceback": [
      "\u001b[0;31m---------------------------------------------------------------------------\u001b[0m",
      "\u001b[0;31mNameError\u001b[0m                                 Traceback (most recent call last)",
      "\u001b[0;32m<ipython-input-3-b331e38341c6>\u001b[0m in \u001b[0;36m<module>\u001b[0;34m()\u001b[0m\n\u001b[0;32m----> 1\u001b[0;31m \u001b[0mZ\u001b[0m\u001b[0;34m=\u001b[0m\u001b[0mread_output\u001b[0m\u001b[0;34m(\u001b[0m\u001b[0;34m'rf_robot2_1_Z'\u001b[0m\u001b[0;34m)\u001b[0m\u001b[0;34m\u001b[0m\u001b[0m\n\u001b[0m\u001b[1;32m      2\u001b[0m \u001b[0mxx\u001b[0m\u001b[0;34m=\u001b[0m\u001b[0mread_output\u001b[0m\u001b[0;34m(\u001b[0m\u001b[0;34m'rf_robot2_1_xx'\u001b[0m\u001b[0;34m)\u001b[0m\u001b[0;34m\u001b[0m\u001b[0m\n\u001b[1;32m      3\u001b[0m \u001b[0myy\u001b[0m\u001b[0;34m=\u001b[0m\u001b[0mread_output\u001b[0m\u001b[0;34m(\u001b[0m\u001b[0;34m'rf_robot2_1_yy'\u001b[0m\u001b[0;34m)\u001b[0m\u001b[0;34m\u001b[0m\u001b[0m\n\u001b[1;32m      4\u001b[0m \u001b[0;34m\u001b[0m\u001b[0m\n\u001b[1;32m      5\u001b[0m \u001b[0;34m\u001b[0m\u001b[0m\n",
      "\u001b[0;31mNameError\u001b[0m: name 'read_output' is not defined"
     ]
    }
   ],
   "source": [
    "Z=read_output('rf_robot2_1_Z')\n",
    "xx=read_output('rf_robot2_1_xx')\n",
    "yy=read_output('rf_robot2_1_yy')\n",
    "\n",
    "\n",
    "mydata=pd.read_csv('./data/robot/2.csv').values\n",
    "X=np.array(mydata[:,0:2])\n",
    "y=mydata[:,2]\n",
    "labels=list(set(y))\n",
    "\n",
    "\n",
    "figure = plt.figure(figsize=(7, 7))\n",
    "x1_min, x1_max = X.T[0].min() - .1, X.T[0].max() + .1\n",
    "x2_min, x2_max =X.T[1].min() - .1, X.T[1].max() + .1\n",
    "ax = plt.subplot(1, 1, 1)\n",
    "cm = plt.cm.tab20c\n",
    "for label in labels:\n",
    "    ax.scatter(X.T[0], X.T[1], cmap=cm,edgecolors='k')\n",
    "\n",
    "    ax.set_xlim(x1_min, x1_max)\n",
    "    ax.set_ylim(x2_min, x2_max)\n",
    "    ax.set_xticks(range(int(floor(x1_min)),int(ceil(x1_max))))\n",
    "    ax.set_yticks(range(int(floor(x2_min)),int(ceil(x2_max))))\n",
    "\n",
    "# cntr1 = ax.contourf(xx, yy, Z, cmap=cm, alpha=.8)\n",
    "# cbar0 = plt.colorbar( cntr1,)\n",
    "\n",
    "plt.tight_layout()\n",
    "plt.show()\n",
    "\n"
   ]
  },
  {
   "cell_type": "code",
   "execution_count": null,
   "metadata": {},
   "outputs": [],
   "source": [
    "\n",
    "y_pred= np.array(mlp.predict_proba(X))\n",
    "y_pred_index=np.argmax(y_pred, axis=1)\n",
    "y_h= np.array([ [label[i],y_true,float(prob[i])] for i,y_true,prob in zip(y_pred_index,y,y_pred)])    \n",
    "index_wrong=(y_h.T[0]!=y_h.T[1])\n",
    "X_wrong =X[index_wrong]\n",
    "\n",
    "figure = plt.figure(figsize=(7, 7))\n",
    "ax = plt.subplot(1, 1, 1)\n",
    "ax.set_ylim(x2_min, x2_max)\n",
    "ax.set_xticks(range(int(floor(x1_min)),int(ceil(x1_max))))\n",
    "ax.set_yticks(range(int(floor(x2_min)),int(ceil(x2_max))))\n",
    "ax.set_xlabel('Sensor Reading From Front Sensor',size=20)\n",
    "ax.set_ylabel('Sensor Reading From Left Sensor',size=20)\n",
    "# markers=['.','+','o',',']\n",
    "for j in range(0,len(label)):\n",
    "    ax.scatter(X[index[j]].T[0], X[index[j]].T[1], cmap=cmap1,marker='.',label=label[j])\n",
    "    ax.set_xlim(x1_min, x1_max)\n",
    "\n",
    "ax.scatter(X[index_wrong].T[0], X[index_wrong].T[1], cmap=cmap1,marker='x',s=25,label='Wrong')\n",
    "plt.legend(prop={'size':15})\n",
    "plt.tight_layout()\n",
    "plt.show()\n",
    "\n"
   ]
  },
  {
   "cell_type": "code",
   "execution_count": null,
   "metadata": {},
   "outputs": [],
   "source": [
    "# 总错误/ 总预测\n",
    "p_mlp=0.5\n",
    "p_rf=0.02\n",
    "\n",
    "print len(y_h[index_wrong]),float(len(y_h)),len(y_h[index_wrong])/float(len(y_h))\n",
    "#mlp预测概率\n",
    "y_prob=np.array([float(p) for p in y_h.T[2]])\n",
    "# mlp预测概率<p 的项\n",
    "index_u1=(y_prob<p_mlp)\n",
    "y_mlp_u=y_h[index_u1]\n",
    "# mlp预测概率<p 的项里错误的\n",
    "index_u11=(y_mlp_u.T[0]!=y_mlp_u.T[1])\n",
    "print len(y_mlp_u[index_u11]), len(y_h[index_u1]),len(y_mlp_u[index_u11])/float( len(y_h[index_u1]))\n",
    "\n",
    "# rf预测概率<p 的项\n",
    "py=read_output('rf_robot2_1_pY')\n",
    "index_u2=(pY<p_rf)\n",
    "# rf+mlp预测概率<p 的项\n",
    "index_u=np.logical_or(index_u1,index_u2)\n",
    "yu=y_h[index_u]\n",
    "\n",
    "#rf+mlp预测概率<p 的项错误的\n",
    "index_wrong2=(yu.T[0]!=yu.T[1])\n",
    "y_wrong2=yu[index_wrong2]\n",
    "print len(y_wrong2),len(yu),len(y_wrong2)/float(len(yu))\n",
    "\n"
   ]
  },
  {
   "cell_type": "code",
   "execution_count": null,
   "metadata": {
    "collapsed": true
   },
   "outputs": [],
   "source": []
  }
 ],
 "metadata": {
  "kernelspec": {
   "display_name": "Python 2",
   "language": "python",
   "name": "python2"
  },
  "language_info": {
   "codemirror_mode": {
    "name": "ipython",
    "version": 2
   },
   "file_extension": ".py",
   "mimetype": "text/x-python",
   "name": "python",
   "nbconvert_exporter": "python",
   "pygments_lexer": "ipython2",
   "version": "2.7.14"
  }
 },
 "nbformat": 4,
 "nbformat_minor": 2
}
