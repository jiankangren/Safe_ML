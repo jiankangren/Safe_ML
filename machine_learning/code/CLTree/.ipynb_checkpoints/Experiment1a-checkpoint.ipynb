{
 "cells": [
  {
   "cell_type": "code",
   "execution_count": 1,
   "metadata": {
    "collapsed": true
   },
   "outputs": [],
   "source": [
    "import pandas as pd\n",
    "from matplotlib import cm\n",
    "import numpy as np\n",
    "from math import floor, ceil\n",
    "import matplotlib.pyplot as plt\n",
    "from matplotlib.colors import ListedColormap\n",
    "from sklearn.metrics import accuracy_score\n",
    "from Preprocess import *\n",
    "from plot import *\n",
    "markers=['.','+','x','_',',','|','1','2','3','4','8','>','<']\n",
    "cmap1 = plt.cm.RdBu\n",
    "cmap2 = plt.cm.Set2\n",
    "cmap3 = plt.cm.tab20c\n",
    "# cmap3 = plt.cm.hot\n",
    "C =ListedColormap (np.random.rand (20,3)).colors\n"
   ]
  },
  {
   "cell_type": "markdown",
   "metadata": {},
   "source": [
    "## MLP\n"
   ]
  },
  {
   "cell_type": "code",
   "execution_count": 106,
   "metadata": {},
   "outputs": [
    {
     "name": "stdout",
     "output_type": "stream",
     "text": [
      "Iteration 1, loss = 2.05069526\n",
      "Iteration 2, loss = 0.96878267\n",
      "Iteration 3, loss = 0.85027343\n",
      "Iteration 4, loss = 0.80971546\n",
      "Iteration 5, loss = 0.70551660\n",
      "Iteration 6, loss = 0.63379586\n",
      "Iteration 7, loss = 0.57687496\n",
      "Iteration 8, loss = 0.62447254\n",
      "Iteration 9, loss = 0.59622849\n",
      "Iteration 10, loss = 0.54628587\n",
      "Iteration 11, loss = 0.56968258\n",
      "Iteration 12, loss = 0.57137599\n",
      "Iteration 13, loss = 0.54023119\n",
      "Iteration 14, loss = 0.48985915\n",
      "Iteration 15, loss = 0.48916786\n",
      "Iteration 16, loss = 0.47171703\n",
      "Iteration 17, loss = 0.45183751\n",
      "Iteration 18, loss = 0.45657335\n",
      "Iteration 19, loss = 0.45320483\n",
      "Iteration 20, loss = 0.45309951\n",
      "Training loss did not improve more than tol=0.000010 for two consecutive epochs. Stopping.\n",
      "('Training set score: 0.855886', 2727)\n",
      "('Test set score: 0.838710', 2728)\n"
     ]
    }
   ],
   "source": [
    "from sklearn.model_selection import train_test_split\n",
    "from sklearn.neural_network import MLPClassifier\n",
    "file1=['./data/robot/4/','4.csv']\n",
    "file1=['./data/robot/24/','24.csv']\n",
    "\n",
    "X_train, X_test, y_train, y_test = read_data(file1[0])\n",
    "X=np.concatenate((X_train,X_test), axis=0)\n",
    "y=np.concatenate((y_train,y_test), axis=0)\n",
    "\n",
    "X_train, X_test, y_train, y_test = \\\n",
    "        train_test_split(X,y, test_size=0.5, random_state=1)   \n",
    "    \n",
    "mlp = MLPClassifier(hidden_layer_sizes=(100,50,50,), max_iter=200, alpha=1e-4,\n",
    "                    solver='adam', verbose=10, tol=1e-5, random_state=1,\n",
    "                    learning_rate_init=.05)\n",
    "mlp.fit(X_train, y_train)\n",
    "\n",
    "label=mlp.classes_\n",
    "\n",
    "\n",
    "print(\"Training set score: %f\" % mlp.score(X_train, y_train),len(y_train))\n",
    "\n",
    "print(\"Test set score: %f\" % mlp.score(X_test, y_test),len(y_test))"
   ]
  },
  {
   "cell_type": "code",
   "execution_count": 107,
   "metadata": {},
   "outputs": [
    {
     "name": "stdout",
     "output_type": "stream",
     "text": [
      "Progress: 1\n",
      "Progress: 2\n",
      "Progress: 3\n",
      "Progress: 4\n",
      "Progress: 5\n",
      "Progress: 6\n",
      "Progress: 7\n",
      "Progress: 8\n",
      "Progress: 9\n",
      "Progress: 10\n",
      "Progress: 11\n",
      "Progress: 12\n",
      "Progress: 13\n",
      "Progress: 14\n",
      "Progress: 15\n",
      "Progress: 16\n",
      "Progress: 17\n"
     ]
    },
    {
     "data": {
      "image/png": "[encoded data removed]",
      "text/plain": [
       "<matplotlib.figure.Figure at 0x106fa9750>"
      ]
     },
     "metadata": {},
     "output_type": "display_data"
    }
   ],
   "source": [
    "X_train, X_test, y_train, y_test = read_data(file1[0])\n",
    "  \n",
    "    \n",
    "figure = plt.figure(figsize=(20, 10))\n",
    "\n",
    "\n",
    "\"\"\"\n",
    "Train CLTree\n",
    "\"\"\"\n",
    "tree=CLTree(criterion='gini',min_samples_leaf=5, max_depth=50,gain_ratio_threshold=0.00001)\n",
    "tree.fit(X_train,1,1)\n",
    "yt=tree.predict(X_train)\n",
    "yp=tree.predict(X_test)\n",
    "\n",
    "# inds=[yp<0.1,np.logical_and(yp>=0.1,yp<0.2),np.logical_and(yp>=0.2,yp<0.3),\\\n",
    "#     np.logical_and(yp>=0.3,yp<0.4),np.logical_and(yp>=0.4,yp<0.5),np.logical_and(yp>=0.6,yp<0.7),\\\n",
    "#     np.logical_and(yp>=0.6,yp<0.7),np.logical_and(yp>=0.7,yp<0.8),np.logical_and(yp>=0.8,yp<0.9),\\\n",
    "#     np.logical_and(yp>=0.9,yp<0.95),np.logical_and(yp>=0.95,yp<1)]\n",
    "# inds=[yp<threshold,yp>=threshold]\n",
    "\n",
    "\n",
    "ax = plt.subplot(3, 2, 1)\n",
    "ax.set_title(\"Density Distribution\")\n",
    "plt.hist(tree.density[tree.density>0],bins=25,density=True, histtype='step',cumulative=True)\n",
    "ax = plt.subplot(3, 2, 2)\n",
    "ax.set_title(\"Density_X Distribution\")\n",
    "plt.hist(tree.density_X[tree.density_X>0],bins=25,density=True, histtype='step',cumulative=True)\n",
    "\n",
    "\n",
    "ax = plt.subplot(3, 2, 3)\n",
    "ax.set_title(\"Test  Distribution\")\n",
    "plt.hist(yp,bins=25,density=True, histtype='step',cumulative=True)\n",
    "ax = plt.subplot(3, 2, 4)\n",
    "ax.set_title(\"Train  Distribution\")\n",
    "plt.hist(yt,bins=25,density=True, histtype='step',cumulative=True)\n",
    "\n",
    "plt.legend()\n",
    "plt.tight_layout()\n",
    "plt.show()\n",
    "\n",
    "\n"
   ]
  },
  {
   "cell_type": "code",
   "execution_count": 110,
   "metadata": {},
   "outputs": [
    {
     "name": "stdout",
     "output_type": "stream",
     "text": [
      "Iteration 1, loss = 2.31683044\n",
      "Iteration 2, loss = 0.65767381\n",
      "Iteration 3, loss = 0.48517642\n",
      "Iteration 4, loss = 0.35829051\n",
      "Iteration 5, loss = 0.29863931\n",
      "Iteration 6, loss = 0.25273259\n",
      "Iteration 7, loss = 0.24576497\n",
      "Iteration 8, loss = 0.22074634\n",
      "Iteration 9, loss = 0.18536231\n",
      "Iteration 10, loss = 0.17151094\n",
      "Iteration 11, loss = 0.17324912\n",
      "Iteration 12, loss = 0.16163776\n",
      "Iteration 13, loss = 0.16079548\n",
      "Iteration 14, loss = 0.14877946\n",
      "Iteration 15, loss = 0.14802360\n",
      "Iteration 16, loss = 0.12919154\n",
      "Iteration 17, loss = 0.13003472\n",
      "Iteration 18, loss = 0.15304100\n",
      "Iteration 19, loss = 0.17940458\n",
      "Training loss did not improve more than tol=0.000010 for two consecutive epochs. Stopping.\n",
      "('Training set score: 0.966642', 2728)\n",
      "('Test set score: 0.546021', 2727)\n"
     ]
    }
   ],
   "source": [
    "X_train, X_test, y_train, y_test = read_data(file1[0])\n",
    " \n",
    "mlp = MLPClassifier(hidden_layer_sizes=(100,50,50,), max_iter=200, alpha=1e-4,\n",
    "                    solver='adam', verbose=10, tol=1e-5, random_state=1,\n",
    "                    learning_rate_init=.05)\n",
    "mlp.fit(X_train, y_train)\n",
    "\n",
    "label=mlp.classes_\n",
    "\n",
    "\n",
    "print(\"Training set score: %f\" % mlp.score(X_train, y_train),len(y_train))\n",
    "\n",
    "print(\"Test set score: %f\" % mlp.score(X_test, y_test),len(y_test))\n",
    "\n",
    "# figure = plt.figure(figsize=(10, 5))\n",
    "\n",
    "# ax = plt.subplot(1, 2, 1)\n",
    "# ax.set_title(\"train data\")\n",
    "# y_pred= np.array(mlp.predict_proba(X_train))\n",
    "# y_pred_index=np.argmax(y_pred, axis=1)\n",
    "# yh= np.array([ [label[i],y_true,float(prob[i])] for i,y_true,prob in zip(y_pred_index,y_train,y_pred)])    \n",
    "# ymlp= np.array([ float(prob[i]) for i,prob in zip(y_pred_index,y_pred)])\n",
    "\n",
    "# plt.hist(ymlp,bins=25,density=True, histtype='step',cumulative=True)\n",
    "\n",
    "# ax = plt.subplot(1, 2, 2)\n",
    "# ax.set_title(\"test data\")\n",
    "# y_pred= np.array(mlp.predict_proba(X_test))\n",
    "# y_pred_index=np.argmax(y_pred, axis=1)\n",
    "# yh= np.array([ [label[i],y_true,float(prob[i])] for i,y_true,prob in zip(y_pred_index,y_test,y_pred)])    \n",
    "# ymlp= np.array([ float(prob[i]) for i,prob in zip(y_pred_index,y_pred)])\n",
    "\n",
    "# plt.hist(ymlp,bins=25,density=True, histtype='step',cumulative=True)\n",
    "\n",
    "\n",
    "# plt.legend()\n",
    "# plt.tight_layout()\n",
    "# plt.show()\n",
    "    \n"
   ]
  },
  {
   "cell_type": "code",
   "execution_count": 124,
   "metadata": {},
   "outputs": [
    {
     "name": "stdout",
     "output_type": "stream",
     "text": [
      "Threshold 0.999999999998\n",
      "Test Uncertain 0.579610073111 2462\n",
      "Test certain 0.90177079853 2993\n"
     ]
    }
   ],
   "source": [
    "yt.sort()\n",
    "k=int(floor(len(yt)*0.09))\n",
    "threshold=yt[k]\n",
    "print 'Threshold',threshold\n",
    "\n",
    "\n",
    "\n",
    "yp=tree.predict(X)\n",
    "\n",
    "\n",
    "label=mlp.classes_\n",
    "y_pred= np.array(mlp.predict_proba(X))\n",
    "y_pred_index=np.argmax(y_pred, axis=1)\n",
    "yh= np.array([ [label[i],y_true,float(prob[i])] for i,y_true,prob in zip(y_pred_index,y,y_pred)])    \n",
    "ymlp= np.array([ float(prob[i]) for i,prob in zip(y_pred_index,y_pred)])\n",
    "    \n",
    "\n",
    "    \n",
    "id1=yp<threshold\n",
    "id2=yp>=threshold\n",
    "\n",
    "print \"Test Uncertain\", accuracy_score(yh.T[0][id1], yh.T[1][id1]), len(yh.T[1][id1])\n",
    "print \"Test certain\", accuracy_score(yh.T[0][id2], yh.T[1][id2]),len(yh.T[1][id2])\n",
    "\n"
   ]
  },
  {
   "cell_type": "code",
   "execution_count": null,
   "metadata": {
    "collapsed": true
   },
   "outputs": [],
   "source": []
  },
  {
   "cell_type": "code",
   "execution_count": null,
   "metadata": {
    "collapsed": true
   },
   "outputs": [],
   "source": []
  }
 ],
 "metadata": {
  "kernelspec": {
   "display_name": "Python 2",
   "language": "python",
   "name": "python2"
  },
  "language_info": {
   "codemirror_mode": {
    "name": "ipython",
    "version": 2
   },
   "file_extension": ".py",
   "mimetype": "text/x-python",
   "name": "python",
   "nbconvert_exporter": "python",
   "pygments_lexer": "ipython2",
   "version": "2.7.14"
  }
 },
 "nbformat": 4,
 "nbformat_minor": 2
}
