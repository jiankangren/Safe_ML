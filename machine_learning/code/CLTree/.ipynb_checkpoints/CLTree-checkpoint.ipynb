{
 "cells": [
  {
   "cell_type": "code",
   "execution_count": 5,
   "metadata": {
    "collapsed": true
   },
   "outputs": [],
   "source": [
    "dataset = [[2.771244718,1.784783929,0],\n",
    "\t[1.728571309,1.169761413,0],\n",
    "\t[3.678319846,2.81281357,0],\n",
    "\t[3.961043357,2.61995032,0],\n",
    "\t[2.999208922,2.209014212,0],\n",
    "\t[7.497545867,3.162953546,1],\n",
    "\t[9.00220326,3.339047188,1],\n",
    "\t[7.444542326,0.476683375,1],\n",
    "\t[10.12493903,3.234550982,1],\n",
    "\t[6.642287351,3.319983761,1]]\n",
    "\n",
    "from attribute import Attribute\n",
    "# test data from _?\n",
    "ATTRIBUTES = [\n",
    "Attribute(\"temperature\", [0,1,2]), # [\"hot\",\"mild\",\"cool\"]\n",
    "Attribute(\"outlook\", [0,1,2]), # [\"sunny\",\"overcast\",\"rainy\"]\n",
    "Attribute(\"humidity\", [0,1]), # [\"high\",\"normal\"]\n",
    "Attribute(\"wind\", [0,1]), # [\"strong\",\"weak\"]\n",
    "Attribute(\"playtennis\", [0,1]), # [\"no\",\"yes\"]\n",
    "]\n",
    "DATA = [\n",
    "[0,0,0,1,0],\n",
    "[0,0,0,0,0],\n",
    "[0,1,0,1,1],\n",
    "[1,2,0,1,1],\n",
    "[2,2,1,1,1],\n",
    "[2,2,1,0,0],\n",
    "[2,1,1,0,1],\n",
    "[1,0,0,1,0],\n",
    "[2,0,1,1,1],\n",
    "[1,2,1,1,1],\n",
    "[1,0,1,0,1],\n",
    "[1,1,0,0,1],\n",
    "[0,1,1,1,1],\n",
    "[1,2,0,0,0],\n",
    "]\n",
    "\n",
    "'''\n",
    "# test data from _?\n",
    "ATTRIBUTES = [\n",
    "Attribute(\"outlook\", [0,1,2], [\"sunny\",\"overcast\",\"rain\"]),\n",
    "Attribute(\"wind\", [0,1], [\"strong\",\"weak\"]),\n",
    "Attribute(\"playgolf\", [0,1], [\"no\",\"yes\"])\n",
    "]\n",
    "DATA = [\n",
    "[2,0,0],\n",
    "[0,1,1],\n",
    "[1,1,1],\n",
    "[2,1,1],\n",
    "[0,0,1],\n",
    "[2,0,0],\n",
    "[1,0,0]\n",
    "]\n",
    "'''"
   ]
  },
  {
   "cell_type": "markdown",
   "metadata": {
    "collapsed": true
   },
   "source": [
    "## Split Metric\n",
    "### Gini Index\n",
    "$$G=\\sum_{i=1}^N p_i(1-p_i)=1-\\sum_{i=1}^N p_i^2$$\n",
    "这里 group 的最后一列是class\n"
   ]
  },
  {
   "cell_type": "code",
   "execution_count": 58,
   "metadata": {},
   "outputs": [],
   "source": [
    "import abc\n",
    "\n",
    "class ScoreFunc(object):\n",
    "\t\"\"\"Base class for Metric Score\t\"\"\"\n",
    "\n",
    "\t__metaclass__ = abc.ABCMeta\n",
    "\n",
    "\tdef __init__(self):\n",
    "\t\tsuper(ScoreFunc, self).__init__()\n",
    "\n",
    "\t@abc.abstractmethod\n",
    "\tdef score(self, groups, classes): \n",
    "\t\t\"\"\"Apply the score metric function\n",
    "\n",
    "\t\tParameters\n",
    "\t\t----------\n",
    "\t\tgroup : numpy array of shape [[group1], [group2]...[]]\n",
    "        groups: [[x1,y1],[x2,y2]....]\n",
    "\t\tclasses : numpy array of shape [k_labels]\n",
    "\t\tReturns\n",
    "\t\t-------\n",
    "\t\tscore : the final score\n",
    "\t\t\"\"\"\n",
    "\t\tpass\n",
    "    \n"
   ]
  },
  {
   "cell_type": "code",
   "execution_count": 61,
   "metadata": {},
   "outputs": [
    {
     "name": "stdout",
     "output_type": "stream",
     "text": [
      "0.5\n",
      "0.0\n"
     ]
    }
   ],
   "source": [
    "class GiniFunc(ScoreFunc):\n",
    "    \"\"\"\n",
    "    Calculate the Gini index for a split dataset\n",
    "    \"\"\"\n",
    "    def __init__(self):\n",
    "        super(GiniFunc, self).__init__()\n",
    "    \n",
    "    def score(self, groups, classes):\n",
    "        # count all samples at split point\n",
    "        n_instances = float(sum([len(group) for group in groups]))\n",
    "       # sum weighted Gini index for each group\n",
    "        gini = 0.0\n",
    "        for group in groups:\n",
    "            size = float(len(group))\n",
    "            # avoid divide by zero\n",
    "            if size == 0:\n",
    "                continue\n",
    "            score = 0.0\n",
    "            # score the group based on the score for each class\n",
    "            for class_val in classes:\n",
    "                p = [row[-1] for row in group].count(class_val) / size\n",
    "                score += p * p\n",
    "            # weight the group score by its relative size\n",
    "            gini += (1.0 - score) * (size / n_instances)\n",
    "        return gini\n",
    "\n",
    "\n",
    "\n",
    "\n",
    "# test Gini values\n",
    "gini=GiniFunc()\n",
    "print(gini.score([[[1, 1], [1, 0]], [[1, 1], [1, 0]]], [0, 1]))\n",
    "print(gini.score([[[1, 0], [1, 0]], [[1, 1], [1, 1]]], [0, 1]))"
   ]
  },
  {
   "cell_type": "markdown",
   "metadata": {},
   "source": [
    "### Info\n",
    "$$\n",
    "Info=-\\sum_{i=1}^K p_i\\log p_i\\\\\n",
    "Info\\_Gain=Info\\_origin-\\sum_{i\\in groups} p_i\\times Info(g_j)\n",
    "$$"
   ]
  },
  {
   "cell_type": "code",
   "execution_count": 86,
   "metadata": {},
   "outputs": [
    {
     "name": "stdout",
     "output_type": "stream",
     "text": [
      "0.311278124459\n",
      "0.311278124459\n",
      "0.811278124459\n",
      "1.0\n"
     ]
    }
   ],
   "source": [
    "from numpy import log2\n",
    "class InfoFunc(ScoreFunc):\n",
    "    \"\"\"\n",
    "    Calculate the info gain ratio index for a split dataset\n",
    "    \"\"\"\n",
    "    def __init__(self):\n",
    "        super(InfoFunc, self).__init__()\n",
    "    \n",
    "    def score(self, groups, classes):\n",
    "        # count all samples at split point\n",
    "        n_instances = float(sum([len(group) for group in groups]))\n",
    "        splitcost=0\n",
    "        X=[]\n",
    "        for group in groups:\n",
    "            X+=group\n",
    "        info_origin=self.entropy(X,classes)\n",
    "        info=0\n",
    "        for group in groups:\n",
    "            size = float(len(group))\n",
    "            # avoid divide by zero\n",
    "            if size == 0:\n",
    "                continue\n",
    "            info+=(size/n_instances)* self.entropy(group,classes)\n",
    "            splitcost+=-(size/n_instances)*log2(size/n_instances)\n",
    "        return (info_origin-info)                \n",
    "        \n",
    "    def entropy(self,group,classes):\n",
    "        size=float(len(group))\n",
    "        info=0\n",
    "        if size==0:\n",
    "            return info\n",
    "        for class_val in classes:\n",
    "            p = [row[-1] for row in group].count(class_val) / size\n",
    "            if p>0:\n",
    "                info+=-p*log2(p)\n",
    "        return info\n",
    "  \n",
    "info=InfoFunc()\n",
    "# print(info.entropy([[1, 1],[1,1],[2,1], [1, 0]], [0, 1]))\n",
    "# print(info.entropy([[1, 1],[1,1], [1, 0]], [0, 1]))\n",
    "\n",
    "print info.score([[[1, 1], [1, 0],[1, 1]], [[1, 0]]], [0, 1])\n",
    "print info.score([[[1, 1], [1, 1]], [[1, 1], [1, 0]]], [0, 1])\n",
    "print info.entropy([[1,1],[1,1],[1,1],[1,0]],[1,0])\n",
    "print info.entropy([[1,1],[1,0]],[1,0])"
   ]
  },
  {
   "cell_type": "markdown",
   "metadata": {},
   "source": [
    "## Decision Tree Node"
   ]
  },
  {
   "cell_type": "code",
   "execution_count": null,
   "metadata": {
    "collapsed": true
   },
   "outputs": [],
   "source": [
    "class DecisionNode(object):\n",
    "    '''A node in a decision tree\n",
    "    has children, attribute list, an attribute (if root attribute is none), and data\n",
    "    '''\n",
    "    \n",
    "    def __init__(self, attributes, data):\n",
    "        '''Initialize with name of attributes and data in lists by attribute'''\n",
    "        super(RegressionErrFunc, self).__init__()\n",
    "        self.attributes = attributes\n",
    "        self.row_data = data\n",
    "        \n",
    "        self.children = []\n",
    "        self.attribute = None\n"
   ]
  },
  {
   "cell_type": "markdown",
   "metadata": {
    "collapsed": true
   },
   "source": [
    "## Split\n",
    "###  Splitting a Dataset\n",
    "split的筛选到时候可以用numpy加速，这里先这样"
   ]
  },
  {
   "cell_type": "code",
   "execution_count": 7,
   "metadata": {
    "collapsed": true
   },
   "outputs": [],
   "source": [
    "# Split a dataset based on an attribute and an attribute value\n",
    "def test_split(index, value, dataset):\n",
    "\tleft, right = list(), list()\n",
    "\tfor row in dataset:\n",
    "\t\tif row[index] < value:\n",
    "\t\t\tleft.append(row)\n",
    "\t\telse:\n",
    "\t\t\tright.append(row)\n",
    "\treturn left, right"
   ]
  },
  {
   "cell_type": "markdown",
   "metadata": {},
   "source": [
    "### Evaluating All Splits"
   ]
  },
  {
   "cell_type": "code",
   "execution_count": 8,
   "metadata": {},
   "outputs": [
    {
     "name": "stdout",
     "output_type": "stream",
     "text": [
      "Split: [X1 < 6.642]\n"
     ]
    }
   ],
   "source": [
    "# Select the best split point for a dataset\n",
    "def get_split(dataset):\n",
    "\tclass_values = list(set(row[-1] for row in dataset))\n",
    "\tb_index, b_value, b_score, b_groups = 999, 999, 999, None\n",
    "\tfor index in range(len(dataset[0])-1):\n",
    "\t\tfor row in dataset:\n",
    "\t\t\tgroups = test_split(index, row[index], dataset)\n",
    "\t\t\tgini = gini_index(groups, class_values)\n",
    "\t\t\tif gini < b_score:\n",
    "\t\t\t\tb_index, b_value, b_score, b_groups = index, row[index], gini, groups\n",
    "\treturn {'index':b_index, 'value':b_value, 'groups':b_groups}\n",
    "\n",
    "split = get_split(dataset)\n",
    "print('Split: [X%d < %.3f]' % ((split['index']+1), split['value']))"
   ]
  },
  {
   "cell_type": "markdown",
   "metadata": {},
   "source": [
    "## Build a Tree\n",
    "* Maximum Tree Depth.   This is the maximum number of nodes from the root node of the tree\n",
    "* Minimum Node Records. This is the minimum number of training patterns that a given node is responsible for.\n",
    "\n",
    "### Terminal Node\n",
    "returns the most common output value in a list of rows."
   ]
  },
  {
   "cell_type": "code",
   "execution_count": 9,
   "metadata": {
    "collapsed": true
   },
   "outputs": [],
   "source": [
    "# Create a terminal node value\n",
    "def to_terminal(group):\n",
    "\toutcomes = [row[-1] for row in group]\n",
    "\treturn max(set(outcomes), key=outcomes.count)"
   ]
  },
  {
   "cell_type": "markdown",
   "metadata": {},
   "source": [
    "### Recursive Splitting\n"
   ]
  },
  {
   "cell_type": "code",
   "execution_count": 10,
   "metadata": {
    "collapsed": true
   },
   "outputs": [],
   "source": [
    "# Create child splits for a node or make terminal\n",
    "def split(node, max_depth, min_size, depth):\n",
    "\tleft, right = node['groups']\n",
    "\tdel(node['groups'])\n",
    "\t# check for a no split\n",
    "\tif not left or not right:\n",
    "\t\tnode['left'] = node['right'] = to_terminal(left + right)\n",
    "\t\treturn\n",
    "\t# check for max depth\n",
    "\tif depth >= max_depth:\n",
    "\t\tnode['left'], node['right'] = to_terminal(left), to_terminal(right)\n",
    "\t\treturn\n",
    "\t# process left child\n",
    "\tif len(left) <= min_size:\n",
    "\t\tnode['left'] = to_terminal(left)\n",
    "\telse:\n",
    "\t\tnode['left'] = get_split(left)\n",
    "\t\tsplit(node['left'], max_depth, min_size, depth+1)\n",
    "\t# process right child\n",
    "\tif len(right) <= min_size:\n",
    "\t\tnode['right'] = to_terminal(right)\n",
    "\telse:\n",
    "\t\tnode['right'] = get_split(right)\n",
    "\t\tsplit(node['right'], max_depth, min_size, depth+1)"
   ]
  },
  {
   "cell_type": "markdown",
   "metadata": {},
   "source": [
    "### Building a Tree\n"
   ]
  },
  {
   "cell_type": "code",
   "execution_count": 13,
   "metadata": {
    "collapsed": true
   },
   "outputs": [],
   "source": [
    "# Build a decision tree\n",
    "def build_tree(train, max_depth, min_size):\n",
    "\troot = get_split(train)\n",
    "\tsplit(root, max_depth, min_size, 1)\n",
    "\treturn root"
   ]
  },
  {
   "cell_type": "code",
   "execution_count": 14,
   "metadata": {
    "collapsed": true
   },
   "outputs": [],
   "source": [
    "# Print a decision tree\n",
    "def print_tree(node, depth=0):\n",
    "\tif isinstance(node, dict):\n",
    "\t\tprint('%s[X%d < %.3f]' % ((depth*' ', (node['index']+1), node['value'])))\n",
    "\t\tprint_tree(node['left'], depth+1)\n",
    "\t\tprint_tree(node['right'], depth+1)\n",
    "\telse:\n",
    "\t\tprint('%s[%s]' % ((depth*' ', node)))\n",
    " "
   ]
  },
  {
   "cell_type": "code",
   "execution_count": 15,
   "metadata": {},
   "outputs": [
    {
     "name": "stdout",
     "output_type": "stream",
     "text": [
      "{'index': 0, 'right': {'index': 0, 'right': 1, 'value': 7.497545867, 'left': 1}, 'value': 6.642287351, 'left': {'index': 0, 'right': 0, 'value': 2.771244718, 'left': 0}}\n",
      "[X1 < 6.642]\n",
      " [X1 < 2.771]\n",
      "  [0]\n",
      "  [0]\n",
      " [X1 < 7.498]\n",
      "  [1]\n",
      "  [1]\n"
     ]
    }
   ],
   "source": [
    "tree = build_tree(dataset, 2, 1)\n",
    "print tree\n",
    "print_tree(tree)"
   ]
  },
  {
   "cell_type": "markdown",
   "metadata": {},
   "source": [
    "## Predict"
   ]
  },
  {
   "cell_type": "code",
   "execution_count": 16,
   "metadata": {},
   "outputs": [
    {
     "name": "stdout",
     "output_type": "stream",
     "text": [
      "Expected=0, Got=0\n",
      "Expected=0, Got=0\n",
      "Expected=0, Got=0\n",
      "Expected=0, Got=0\n",
      "Expected=0, Got=0\n",
      "Expected=1, Got=1\n",
      "Expected=1, Got=1\n",
      "Expected=1, Got=1\n",
      "Expected=1, Got=1\n",
      "Expected=1, Got=1\n"
     ]
    }
   ],
   "source": [
    "def predict(node, row):\n",
    "\tif row[node['index']] < node['value']:\n",
    "\t\tif isinstance(node['left'], dict):\n",
    "\t\t\treturn predict(node['left'], row)\n",
    "\t\telse:\n",
    "\t\t\treturn node['left']\n",
    "\telse:\n",
    "\t\tif isinstance(node['right'], dict):\n",
    "\t\t\treturn predict(node['right'], row)\n",
    "\t\telse:\n",
    "\t\t\treturn node['right']\n",
    "        \n",
    "for row in dataset:\n",
    "\tprediction = predict(tree, row)\n",
    "\tprint('Expected=%d, Got=%d' % (row[-1], prediction))\n",
    "        \n"
   ]
  },
  {
   "cell_type": "code",
   "execution_count": 16,
   "metadata": {
    "collapsed": true
   },
   "outputs": [],
   "source": [
    "\n",
    "# CART on the Bank Note dataset\n",
    "from random import seed\n",
    "from random import randrange\n",
    "from csv import reader\n",
    " \n",
    "# Load a CSV file\n",
    "def load_csv(filename):\n",
    "\tfile = open(filename, \"rb\")\n",
    "\tlines = reader(file)\n",
    "\tdataset = list(lines)\n",
    "\treturn dataset\n",
    " \n",
    "# Convert string column to float\n",
    "def str_column_to_float(dataset, column):\n",
    "\tfor row in dataset:\n",
    "\t\trow[column] = float(row[column].strip())\n",
    " \n",
    "# Split a dataset into k folds\n",
    "def cross_validation_split(dataset, n_folds):\n",
    "\tdataset_split = list()\n",
    "\tdataset_copy = list(dataset)\n",
    "\tfold_size = int(len(dataset) / n_folds)\n",
    "\tfor i in range(n_folds):\n",
    "\t\tfold = list()\n",
    "\t\twhile len(fold) < fold_size:\n",
    "\t\t\tindex = randrange(len(dataset_copy))\n",
    "\t\t\tfold.append(dataset_copy.pop(index))\n",
    "\t\tdataset_split.append(fold)\n",
    "\treturn dataset_split\n",
    " \n",
    "# Calculate accuracy percentage\n",
    "def accuracy_metric(actual, predicted):\n",
    "\tcorrect = 0\n",
    "\tfor i in range(len(actual)):\n",
    "\t\tif actual[i] == predicted[i]:\n",
    "\t\t\tcorrect += 1\n",
    "\treturn correct / float(len(actual)) * 100.0\n",
    " \n",
    "# Evaluate an algorithm using a cross validation split\n",
    "def evaluate_algorithm(dataset, algorithm, n_folds, *args):\n",
    "\tfolds = cross_validation_split(dataset, n_folds)\n",
    "\tscores = list()\n",
    "\tfor fold in folds:\n",
    "\t\ttrain_set = list(folds)\n",
    "\t\ttrain_set.remove(fold)\n",
    "\t\ttrain_set = sum(train_set, [])\n",
    "\t\ttest_set = list()\n",
    "\t\tfor row in fold:\n",
    "\t\t\trow_copy = list(row)\n",
    "\t\t\ttest_set.append(row_copy)\n",
    "\t\t\trow_copy[-1] = None\n",
    "\t\tpredicted = algorithm(train_set, test_set, *args)\n",
    "\t\tactual = [row[-1] for row in fold]\n",
    "\t\taccuracy = accuracy_metric(actual, predicted)\n",
    "\t\tscores.append(accuracy)\n",
    "\treturn scores"
   ]
  },
  {
   "cell_type": "code",
   "execution_count": 34,
   "metadata": {},
   "outputs": [
    {
     "data": {
      "image/png": "[encoded data removed]",
      "text/plain": [
       "<IPython.core.display.Image object>"
      ]
     },
     "execution_count": 34,
     "metadata": {},
     "output_type": "execute_result"
    }
   ],
   "source": [
    "import pydot\n",
    "from IPython.display import Image\n",
    "def draw(parent_name, child_name):\n",
    "    edge = pydot.Edge(parent_name, child_name)\n",
    "    graph.add_edge(edge)\n",
    "\n",
    "def visit(node, parent=None):\n",
    "    for k,v in node.iteritems():\n",
    "        if isinstance(v, dict):\n",
    "            # We start with the root node whose parent is None\n",
    "            # we don't want to graph the None node\n",
    "            if parent:\n",
    "                draw(parent, k)\n",
    "            visit(v, k)\n",
    "        else:\n",
    "            draw(parent, k)\n",
    "            # drawing the label using a distinct name\n",
    "            draw(k, k+'_'+v)\n",
    "menu = {'dinner':\n",
    "            {'chicken':'good',\n",
    "             'beef':'average',\n",
    "             'vegetarian':{\n",
    "                   'tofu':'good',\n",
    "                   'salad':{\n",
    "                            'caeser':'bad',\n",
    "                            'italian':'average'}\n",
    "                   },\n",
    "             'pork':'bad'}\n",
    "        }\n",
    "graph = pydot.Dot(graph_type='graph')\n",
    "draw('index0', 'index1')\n",
    "draw('index0', 'index2')\n",
    "draw('index0', 'index3')\n",
    "graph.write_png('example1_graph.png')\n",
    "\n",
    "%matplotlib inline\n",
    "Image('example1_graph.png')\n"
   ]
  },
  {
   "cell_type": "code",
   "execution_count": 30,
   "metadata": {},
   "outputs": [
    {
     "data": {
      "image/png": "[encoded data removed]",
      "text/plain": [
       "<IPython.core.display.Image object>"
      ]
     },
     "execution_count": 30,
     "metadata": {},
     "output_type": "execute_result"
    }
   ],
   "source": [
    "\n"
   ]
  },
  {
   "cell_type": "code",
   "execution_count": 33,
   "metadata": {},
   "outputs": [
    {
     "name": "stdout",
     "output_type": "stream",
     "text": [
      "['index', 'right', 'value', 'left']\n"
     ]
    }
   ],
   "source": [
    "tree={'index': 0, 'right': {'index': 0, 'right': 1, 'value': 7.497545867, 'left': 1},\n",
    "      'value': 6.642287351, 'left': {'index': 0, 'right': 0, 'value': 2.771244718, 'left': 0}}\n",
    "\n",
    "print tree.keys()"
   ]
  }
 ],
 "metadata": {
  "kernelspec": {
   "display_name": "Python 2",
   "language": "python",
   "name": "python2"
  },
  "language_info": {
   "codemirror_mode": {
    "name": "ipython",
    "version": 2
   },
   "file_extension": ".py",
   "mimetype": "text/x-python",
   "name": "python",
   "nbconvert_exporter": "python",
   "pygments_lexer": "ipython2",
   "version": "2.7.14"
  }
 },
 "nbformat": 4,
 "nbformat_minor": 2
}
