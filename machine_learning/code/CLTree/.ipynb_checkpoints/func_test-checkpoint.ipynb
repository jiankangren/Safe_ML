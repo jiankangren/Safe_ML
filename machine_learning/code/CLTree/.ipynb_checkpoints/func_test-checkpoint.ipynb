{
 "cells": [
  {
   "cell_type": "markdown",
   "metadata": {},
   "source": [
    "### 测试： Score_Func\n",
    "#### GiniFunc.score(node,i,s,n_left,n_right,n_empty)\n",
    "        \"\"\"\n",
    "        Attributes\n",
    "\t\t----------\n",
    "\t\tNode :  base.Node\n",
    "            The current tree node\n",
    "        i: int\n",
    "            Feature index\n",
    "        s: float\n",
    "            All left childen has ith feature  <=s\n",
    "        n_left: int\n",
    "            Number of samples has ith feature  <=s\n",
    "        n_right  :  int \n",
    "            Number of samples has ith feature  >s\n",
    "        n_empty  :  int \n",
    "            Number of empty samples has ith feature \n",
    "        return\n",
    "        ------\n",
    "            Gini Score for the split : IG_gain\n",
    "        \"\"\""
   ]
  },
  {
   "cell_type": "code",
   "execution_count": null,
   "metadata": {
    "collapsed": true
   },
   "outputs": [],
   "source": [
    "x = np.array([[1],[2],[2],[3],[3],[5],[5]])\n",
    "\n",
    "figure = plt.figure(figsize=(27, 5))\n",
    "cm = plt.cm.RdBu\n",
    "cm_bright = ListedColormap(['#FF0000', '#0000FF'])\n",
    "ax = plt.subplot(1, 3, 1)\n",
    "ax.set_title(\"Input data\")\n",
    "# Plot the training points\n",
    "ax.scatter(X_train[:, 0], X_train[:, 1], c=y_train, cmap=cm_bright,\n",
    "               edgecolors='k')\n",
    "\n",
    "\n",
    "ax.set_xlim(xx.min(), xx.max())\n",
    "ax.set_ylim(yy.min(), yy.max())\n",
    "ax.set_xticks(())\n",
    "ax.set_yticks(())\n",
    "plt.tight_layout()\n",
    "plt.show()\n"
   ]
  },
  {
   "cell_type": "code",
   "execution_count": 5,
   "metadata": {},
   "outputs": [
    {
     "name": "stdout",
     "output_type": "stream",
     "text": [
      "0.461538461538\n",
      "0.482219061166\n",
      "0.475935828877\n"
     ]
    }
   ],
   "source": [
    "from Score_Func import *\n",
    "from tree import Node\n",
    "X=Node(data)\n",
    "print GiniFunc.score( X,i=0,s=1,n_left=1,n_right=6,n_empty=7)\n",
    "print GiniFunc.score( X,i=0,s=2,n_left=3,n_right=4,n_empty=7)\n",
    "print GiniFunc.score( X,i=0,s=3,n_left=5,n_right=2,n_empty=7)\n",
    "\n",
    "\n"
   ]
  },
  {
   "cell_type": "markdown",
   "metadata": {},
   "source": [
    "### 测试: base.hist(x):\n",
    "    '''\n",
    "    Parameter:\n",
    "    ----------\n",
    "    x: np.darray\n",
    "        A list sorted of feature values  x=[1, 1,1,2,2,3,4,4]\n",
    "    Return:\n",
    "    ------\n",
    "    cdf: np.darray\n",
    "        A list of cumulative features     array([3, 5, 6, 8]) \n",
    "        x has 3 items <=1, 5 items <=2, 6 items <=3, 8 items <=4\n",
    "    bins:  np.darray                        \n",
    "        A list of s                       array([1, 2, 3, 4])\n",
    "    '''"
   ]
  },
  {
   "cell_type": "code",
   "execution_count": 2,
   "metadata": {},
   "outputs": [
    {
     "name": "stdout",
     "output_type": "stream",
     "text": [
      "(array([3, 5, 6, 8]), array([1, 2, 3, 4]))\n",
      "(array([ 1,  2,  3,  4,  5,  6,  7,  8,  9, 10, 11, 12, 13, 14]), array([ -3.77124472,  -3.57124472,  -2.77124472,  -2.57124472,\n",
      "         1.72857131,   2.77124472,   2.99920892,   3.67831985,\n",
      "         3.96104336,   6.64228735,   7.44454233,   7.49754587,\n",
      "         9.00220326,  10.12493903]))\n",
      "(array([ 1,  2,  5,  6,  7,  8,  9, 10, 11, 12, 13, 14]), array([ 0.47668338,  1.16976141,  1.78478393,  2.20901421,  2.61995032,\n",
      "        2.81281357,  3.16295355,  3.23455098,  3.31998376,  3.33904719,\n",
      "        4.78478393,  5.78478393]))\n",
      "(array([ 7, 14]), array([ 0.,  1.]))\n"
     ]
    }
   ],
   "source": [
    "from base import hist\n",
    "import numpy as np\n",
    "x=[1, 1,1,2,2,3,4,4]\n",
    "print hist(x)\n",
    "data = np.array([ [-2.571244718,4.784783929,0], [-3.571244718,5.784783929,0], [-3.771244718,1.784783929,1],\n",
    "[-2.771244718,1.784783929,1], [2.771244718,1.784783929,0], [1.728571309,1.169761413,0],[3.678319846,2.81281357,0],\n",
    "[3.961043357,2.61995032,0],[2.999208922,2.209014212,0],[7.497545867,3.162953546,1],[9.00220326,3.339047188,1],\n",
    "[7.444542326,0.476683375,1],[10.12493903,3.234550982,1], [6.642287351,3.319983761,1]])\n",
    "\n",
    "x=data.T[0]\n",
    "x.sort()\n",
    "print hist(x)\n",
    "\n",
    "x=data.T[1]\n",
    "x.sort()\n",
    "print hist(x)\n",
    "\n",
    "x=data.T[2]\n",
    "x.sort()\n",
    "print hist(x)"
   ]
  },
  {
   "cell_type": "code",
   "execution_count": null,
   "metadata": {
    "collapsed": true
   },
   "outputs": [],
   "source": []
  }
 ],
 "metadata": {
  "kernelspec": {
   "display_name": "Python 2",
   "language": "python",
   "name": "python2"
  },
  "language_info": {
   "codemirror_mode": {
    "name": "ipython",
    "version": 2
   },
   "file_extension": ".py",
   "mimetype": "text/x-python",
   "name": "python",
   "nbconvert_exporter": "python",
   "pygments_lexer": "ipython2",
   "version": "2.7.14"
  }
 },
 "nbformat": 4,
 "nbformat_minor": 2
}
