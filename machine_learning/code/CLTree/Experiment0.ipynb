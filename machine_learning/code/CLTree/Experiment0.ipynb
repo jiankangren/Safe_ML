{
 "cells": [
  {
   "cell_type": "code",
   "execution_count": 1,
   "metadata": {
    "collapsed": true
   },
   "outputs": [],
   "source": [
    "import pandas as pd\n",
    "from matplotlib import cm\n",
    "import numpy as np\n",
    "from math import floor, ceil\n",
    "import matplotlib.pyplot as plt\n",
    "from matplotlib.colors import ListedColormap\n",
    "from sklearn.metrics import accuracy_score\n",
    "from Preprocess import *\n",
    "from plot import *\n",
    "markers=['.','+','x','_',',','|','1','2','3','4','8','>','<']\n",
    "cmap1 = plt.cm.RdBu\n",
    "cmap2 = plt.cm.Set2\n",
    "cmap3 = plt.cm.tab20c\n",
    "# cmap3 = plt.cm.hot\n",
    "C =ListedColormap (np.random.rand (20,3)).colors\n"
   ]
  },
  {
   "cell_type": "code",
   "execution_count": 4,
   "metadata": {},
   "outputs": [],
   "source": [
    "data=np.array([\n",
    "[1.0, -5.0, 0.3 ],\n",
    "[2.0, 5.0, 0.3 ],\n",
    "[3.0, -2.0, 0.5 ],\n",
    "[1.0, 2.0, 0.5 ],\n",
    "[2.0, 0.0, 0.7 ],\n",
    "[6.0, -5.0, 0.5 ],\n",
    "[7.0, 5.0, 0.5 ],\n",
    "[6.0, -2.0, 0.3 ],\n",
    "[7.0, 2.0, 0.3 ],\n",
    "[6.0, 0.0, 0.7 ],\n",
    "[8.0, -5.0, 0.5 ],\n",
    "[9.0, 5.0, 0.5 ],\n",
    "[10.0, -2.0, 0.3],\n",
    "[8.0, 2.0, 0.3 ],\n",
    "[9.0, 0.0, 0.5 ]])\n",
    "X=data.T[0:2].T\n",
    "y=data.T[2].T\n",
    "X_train=X"
   ]
  },
  {
   "cell_type": "code",
   "execution_count": 10,
   "metadata": {},
   "outputs": [
    {
     "data": {
      "image/png": "[encoded data removed]",
      "text/plain": [
       "<matplotlib.figure.Figure at 0x1a1b6f5cd0>"
      ]
     },
     "metadata": {},
     "output_type": "display_data"
    }
   ],
   "source": [
    "\n",
    "figure = plt.figure(figsize=(7, 7))\n",
    "ax = plt.subplot(1,1, 1)\n",
    "h=0.02\n",
    "x1_min, x1_max = X.T[0].min() - .1, X.T[0].max() +.1\n",
    "x2_min, x2_max =X.T[1].min() - .1, X.T[1].max() + .1\n",
    "xx, yy = np.meshgrid(np.arange(x1_min-1, x1_max+1, h),np.arange(x2_min-1, x2_max+1, h))\n",
    "ax.scatter(X.T[0], X.T[1], c=y,s=y*400,marker=markers[1])\n",
    "ax.set_xlim(x1_min, x1_max)\n",
    "\n",
    "plt.legend()\n",
    "plt.tight_layout()\n",
    "plt.show()\n",
    "\n",
    "\n"
   ]
  }
 ],
 "metadata": {
  "kernelspec": {
   "display_name": "Python 2",
   "language": "python",
   "name": "python2"
  },
  "language_info": {
   "codemirror_mode": {
    "name": "ipython",
    "version": 2
   },
   "file_extension": ".py",
   "mimetype": "text/x-python",
   "name": "python",
   "nbconvert_exporter": "python",
   "pygments_lexer": "ipython2",
   "version": "2.7.14"
  }
 },
 "nbformat": 4,
 "nbformat_minor": 2
}
