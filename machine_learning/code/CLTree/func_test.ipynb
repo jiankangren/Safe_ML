{
 "cells": [
  {
   "cell_type": "markdown",
   "metadata": {},
   "source": [
    "### Score_Func.GiniFunc.score(node,i,s,n_left,n_right,n_empty)\n",
    "        \"\"\"\n",
    "        Attributes\n",
    "\t\t----------\n",
    "\t\tNode :  base.Node\n",
    "            The current tree node\n",
    "        i: int\n",
    "            Feature index\n",
    "        s: float\n",
    "            All left childen has ith feature  <=s\n",
    "        n_left: int\n",
    "            Number of samples has ith feature  <=s\n",
    "        n_right  :  int \n",
    "            Number of samples has ith feature  >s\n",
    "        n_empty  :  int \n",
    "            Number of empty samples has ith feature \n",
    "        return\n",
    "        ------\n",
    "            Gini Score for the split : IG_gain\n",
    "        \"\"\""
   ]
  },
  {
   "cell_type": "code",
   "execution_count": 24,
   "metadata": {},
   "outputs": [
    {
     "data": {
      "image/png": "[encoded data removed]",
      "text/plain": [
       "<matplotlib.figure.Figure at 0x1a1e604b90>"
      ]
     },
     "metadata": {},
     "output_type": "display_data"
    }
   ],
   "source": [
    "import matplotlib.pyplot as plt\n",
    "from matplotlib.colors import ListedColormap\n",
    "x1 = np.array([[1],[2],[2.1],[3],[3.1],[5],[5.1]])\n",
    "x2=np.ones(len(x1))\n",
    "y=np.ones(len(x1))\n",
    "\n",
    "x1_min, x1_max = x1.min() - .5, x1.max() + .5\n",
    "x2_min, x2_max = x2.min() - .5, x2.max() + .5\n",
    "\n",
    "figure = plt.figure(figsize=(27, 5))\n",
    "cm = plt.cm.RdBu\n",
    "cm_bright = ListedColormap(['#FF0000', '#0000FF'])\n",
    "ax = plt.subplot(1, 1, 1)\n",
    "ax.set_title(\"Input data\")\n",
    "ax.scatter(x1, x2, c=y, cmap=cm_bright,edgecolors='k')\n",
    "\n",
    "ax.set_xlim(x1_min, x1_max)\n",
    "ax.set_ylim(x2_min, x2_max)\n",
    "ax.set_xticks(range(1,6))\n",
    "ax.set_yticks(())\n",
    "plt.tight_layout()\n",
    "plt.show()\n"
   ]
  },
  {
   "cell_type": "code",
   "execution_count": 17,
   "metadata": {},
   "outputs": [
    {
     "name": "stdout",
     "output_type": "stream",
     "text": [
      "0.143540669856 0.163059474521 0.162776412776\n",
      "0.34188034188 0.372807017544 0.37037037037\n"
     ]
    }
   ],
   "source": [
    "from Score_Func import *\n",
    "from tree import Node\n",
    "X=Node(data)\n",
    "print GiniFunc.score( X,i=0,s=1,n_left=1,n_right=6,n_empty=70),\\\n",
    "GiniFunc.score( X,i=0,s=2,n_left=3,n_right=4,n_empty=70),\\\n",
    "GiniFunc.score( X,i=0,s=3,n_left=5,n_right=2,n_empty=70)\n",
    "\n",
    "print GiniFunc.score( X,i=0,s=1,n_left=1,n_right=6,n_empty=20),\\\n",
    "GiniFunc.score( X,i=0,s=2,n_left=3,n_right=4,n_empty=20),\\\n",
    "GiniFunc.score( X,i=0,s=3,n_left=5,n_right=2,n_empty=20)\n",
    "\n",
    "\n",
    "\n"
   ]
  },
  {
   "cell_type": "markdown",
   "metadata": {},
   "source": [
    "### base.hist(x):\n",
    "    '''\n",
    "    Parameter:\n",
    "    ----------\n",
    "    x: np.darray\n",
    "        A list sorted of feature values  x=[1, 1,1,2,2,3,4,4]\n",
    "    Return:\n",
    "    ------\n",
    "    cdf: np.darray\n",
    "        A list of cumulative features     array([3, 5, 6, 8]) \n",
    "        x has 3 items <=1, 5 items <=2, 6 items <=3, 8 items <=4\n",
    "    bins:  np.darray                        \n",
    "        A list of s                       array([1, 2, 3, 4])\n",
    "    '''"
   ]
  },
  {
   "cell_type": "code",
   "execution_count": 2,
   "metadata": {},
   "outputs": [
    {
     "name": "stdout",
     "output_type": "stream",
     "text": [
      "(array([3, 5, 6, 8]), array([1, 2, 3, 4]))\n",
      "(array([ 1,  2,  3,  4,  5,  6,  7,  8,  9, 10, 11, 12, 13, 14]), array([ -3.77124472,  -3.57124472,  -2.77124472,  -2.57124472,\n",
      "         1.72857131,   2.77124472,   2.99920892,   3.67831985,\n",
      "         3.96104336,   6.64228735,   7.44454233,   7.49754587,\n",
      "         9.00220326,  10.12493903]))\n",
      "(array([ 1,  2,  5,  6,  7,  8,  9, 10, 11, 12, 13, 14]), array([ 0.47668338,  1.16976141,  1.78478393,  2.20901421,  2.61995032,\n",
      "        2.81281357,  3.16295355,  3.23455098,  3.31998376,  3.33904719,\n",
      "        4.78478393,  5.78478393]))\n",
      "(array([ 7, 14]), array([ 0.,  1.]))\n"
     ]
    }
   ],
   "source": [
    "from base import hist\n",
    "import numpy as np\n",
    "x=[1, 1,1,2,2,3,4,4]\n",
    "print hist(x)\n",
    "data = np.array([ [-2.571244718,4.784783929,0], [-3.571244718,5.784783929,0], [-3.771244718,1.784783929,1],\n",
    "[-2.771244718,1.784783929,1], [2.771244718,1.784783929,0], [1.728571309,1.169761413,0],[3.678319846,2.81281357,0],\n",
    "[3.961043357,2.61995032,0],[2.999208922,2.209014212,0],[7.497545867,3.162953546,1],[9.00220326,3.339047188,1],\n",
    "[7.444542326,0.476683375,1],[10.12493903,3.234550982,1], [6.642287351,3.319983761,1]])\n",
    "\n",
    "x=data.T[0]\n",
    "x.sort()\n",
    "print hist(x)\n",
    "\n",
    "x=data.T[1]\n",
    "x.sort()\n",
    "print hist(x)\n",
    "\n",
    "x=data.T[2]\n",
    "x.sort()\n",
    "print hist(x)"
   ]
  },
  {
   "cell_type": "markdown",
   "metadata": {},
   "source": [
    "### best_spliter(node,criterion,min_samples_leaf=1)\n",
    "    \"\"\"\n",
    "    Attributes\n",
    "    ----------\n",
    "    node:  Node\n",
    "        Tree Node\n",
    "    criterion: ScoreFunc\n",
    "        Score Function\n",
    "    max_features: int\n",
    "        The maximum number feature to be visited\n",
    "    min_samples_leaf : int\n",
    "        The minimum number of samples required to be at a leaf node:\n",
    "\n",
    "    Return\n",
    "    ------\n",
    "    index :  int\n",
    "        split index\n",
    "    s : float\n",
    "        split value\n",
    "    \n",
    "    Future Extension\n",
    "    ----------------\n",
    "    1. randomly choose feature\n",
    "    \n",
    "    2. randomly choose spilit value\n",
    "\n",
    "    \"\"\"\n",
    "    \n",
    "  "
   ]
  },
  {
   "cell_type": "code",
   "execution_count": 6,
   "metadata": {},
   "outputs": [
    {
     "name": "stdout",
     "output_type": "stream",
     "text": [
      "(0, 1.0)\n"
     ]
    }
   ],
   "source": [
    "from base import best_spliter\n",
    "import numpy as np\n",
    "from tree import *\n",
    "from base import *\n",
    "\n",
    "X = np.array([[1],[2],[2.1],[3],[3.1],[5],[5.1]])\n",
    "node=Node(X,len(X))\n",
    "print best_spliter(node,GiniFunc)\n"
   ]
  },
  {
   "cell_type": "code",
   "execution_count": 24,
   "metadata": {},
   "outputs": [
    {
     "name": "stdout",
     "output_type": "stream",
     "text": [
      "(0, -3.571244718)\n"
     ]
    }
   ],
   "source": [
    "from math import ceil,floor\n",
    "X=np.array([ [-2.571244718,4.784783929,0], [-3.571244718,5.784783929,0], [-3.771244718,1.784783929,1],\n",
    "[-2.771244718,1.784783929,1], [2.771244718,1.784783929,0], [1.728571309,1.169761413,0],[3.678319846,2.81281357,0],\n",
    "[3.961043357,2.61995032,0],[2.999208922,2.209014212,0],[7.497545867,3.162953546,1],[9.00220326,3.339047188,1],\n",
    "[7.444542326,0.476683375,1],[10.12493903,3.234550982,1], [6.642287351,3.319983761,1]])\n",
    "\n",
    "import matplotlib.pyplot as plt\n",
    "from matplotlib.colors import ListedColormap\n",
    "\n",
    "x1_min, x1_max = X.T[0].min() - .5, X.T[0].max() + .5\n",
    "x2_min, x2_max = X.T[1].min() - .5, X.T[1].max() + .5\n",
    "\n",
    "figure = plt.figure(figsize=(5, 5))\n",
    "cm = plt.cm.RdBu\n",
    "cm_bright = ListedColormap(['#FF0000', '#0000FF'])\n",
    "ax = plt.subplot(1, 1, 1)\n",
    "ax.set_title(\"Input data\")\n",
    "ax.scatter(X.T[0], X.T[1], c=X.T[2], cmap=cm_bright,edgecolors='k')\n",
    "\n",
    "ax.set_xlim(x1_min, x1_max)\n",
    "ax.set_ylim(x2_min, x2_max)\n",
    "ax.set_xticks(range(int(floor(x1_min)),int(ceil(x1_max))))\n",
    "ax.set_yticks(range(int(floor(x2_min)),int(ceil(x2_max))))\n",
    "\n",
    "plt.plot([-3.571244718, -3.571244718],[-1, 6] )\n",
    "\n",
    "# plt.tight_layout()\n",
    "# plt.show()\n",
    "\n",
    "node=Node(X[0:2],len(X))\n",
    "\n",
    "print best_spliter(node,GiniFunc)"
   ]
  }
 ],
 "metadata": {
  "kernelspec": {
   "display_name": "Python 2",
   "language": "python",
   "name": "python2"
  },
  "language_info": {
   "codemirror_mode": {
    "name": "ipython",
    "version": 2
   },
   "file_extension": ".py",
   "mimetype": "text/x-python",
   "name": "python",
   "nbconvert_exporter": "python",
   "pygments_lexer": "ipython2",
   "version": "2.7.14"
  }
 },
 "nbformat": 4,
 "nbformat_minor": 2
}
